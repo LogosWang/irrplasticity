{
 "cells": [
  {
   "cell_type": "code",
   "execution_count": 6,
   "id": "9ae0a065",
   "metadata": {},
   "outputs": [
    {
     "name": "stdout",
     "output_type": "stream",
     "text": [
      "Before: [0, 1]\n",
      "Block IDs updated.\n"
     ]
    }
   ],
   "source": [
    "import exodus\n",
    "\n",
    "e = exodus.exodus(\"poly2post.e\", mode=\"a\")  # 打开为写模式\n",
    "print(\"Before:\", e.get_elem_blk_ids())      # 应输出 [1, 2]\n",
    "e.set_elem_blk_id(0, 0)\n",
    "e.set_elem_blk_id(1, 1)\n",
    "# e.set_elem_blk_id(2, 2)\n",
    "# e.set_elem_blk_id(3, 3)\n",
    "# e.set_elem_blk_id(4, 4)\n",
    "# e.set_elem_blk_id(5, 5)\n",
    "# e.set_elem_blk_id(6, 6)\n",
    "# e.set_elem_blk_id(7, 7)\n",
    "e.close()\n",
    "\n",
    "print(\"Block IDs updated.\")\n"
   ]
  }
 ],
 "metadata": {
  "kernelspec": {
   "display_name": "moose",
   "language": "python",
   "name": "python3"
  },
  "language_info": {
   "codemirror_mode": {
    "name": "ipython",
    "version": 3
   },
   "file_extension": ".py",
   "mimetype": "text/x-python",
   "name": "python",
   "nbconvert_exporter": "python",
   "pygments_lexer": "ipython3",
   "version": "3.11.8"
  }
 },
 "nbformat": 4,
 "nbformat_minor": 5
}
